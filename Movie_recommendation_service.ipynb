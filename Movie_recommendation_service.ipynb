{
 "cells": [
  {
   "cell_type": "markdown",
   "metadata": {},
   "source": [
    "# Movie data preprocessing\n",
    "## movies와 credits에서 프로젝트에 사용되지 않는 컬럼을 버린다\n",
    "### budget, homepage, original_language, original_title, production_countries, release_date, revenue, spoken_language, status\n",
    "\n",
    "## movies와 credits dataframe을 merge한다.\n",
    "## crew 컬럼에서 director 정보를 뽑아내서 새로운 DataFrame으로 만든다.\n",
    "### director1 ~ director 종류수"
   ]
  },
  {
   "cell_type": "code",
   "execution_count": 1,
   "metadata": {},
   "outputs": [],
   "source": [
    "import pandas as pd\n",
    "import numpy as npc\n",
    "\n",
    "movies_df = pd.read_csv(\"data/tmdb_5000_movies.csv\")\n",
    "credits_df = pd.read_csv(\"data/tmdb_5000_credits.csv\")\n",
    "\n",
    "# drop columns\n",
    "# budget, homepage, original_language, original_title, production_countries, release_date,\n",
    "# revenue, spoken_languages, status\n",
    "movies_df = movies_df.drop(columns=['budget', 'homepage', 'original_language', 'original_title', 'production_countries',\n",
    "                                    'release_date', 'revenue', 'spoken_languages', 'status', 'runtime', 'tagline'])\n",
    "\n",
    "credits_df = credits_df.drop(columns=['title'])\n",
    "credits_df.columns=['id', 'cast', 'crew']"
   ]
  },
  {
   "cell_type": "code",
   "execution_count": 2,
   "metadata": {
    "scrolled": true
   },
   "outputs": [],
   "source": [
    "total_df = movies_df.join(credits_df.set_index('id'), on='id')"
   ]
  },
  {
   "cell_type": "code",
   "execution_count": 3,
   "metadata": {},
   "outputs": [
    {
     "name": "stdout",
     "output_type": "stream",
     "text": [
      "<class 'pandas.core.frame.DataFrame'>\n",
      "RangeIndex: 4803 entries, 0 to 4802\n",
      "Data columns (total 11 columns):\n",
      "genres                  4803 non-null object\n",
      "id                      4803 non-null int64\n",
      "keywords                4803 non-null object\n",
      "overview                4800 non-null object\n",
      "popularity              4803 non-null float64\n",
      "production_companies    4803 non-null object\n",
      "title                   4803 non-null object\n",
      "vote_average            4803 non-null float64\n",
      "vote_count              4803 non-null int64\n",
      "cast                    4803 non-null object\n",
      "crew                    4803 non-null object\n",
      "dtypes: float64(2), int64(2), object(7)\n",
      "memory usage: 412.8+ KB\n"
     ]
    }
   ],
   "source": [
    "total_df.info()"
   ]
  },
  {
   "cell_type": "code",
   "execution_count": 4,
   "metadata": {},
   "outputs": [],
   "source": [
    "import json\n",
    "\n",
    "json_columns = ['genres', 'keywords', 'cast', 'crew', 'production_companies']\n",
    "for column in json_columns:\n",
    "    total_df[column] = total_df[column].apply(json.loads)\n"
   ]
  },
  {
   "cell_type": "code",
   "execution_count": 5,
   "metadata": {},
   "outputs": [
    {
     "name": "stdout",
     "output_type": "stream",
     "text": [
      "Flying By\n",
      "Running Forever\n",
      "Boynton Beach Club\n",
      "Sharkskin\n",
      "The Book of Mormon Movie, Volume 1: The Journey\n",
      "Hum To Mohabbat Karega\n",
      "Roadside Romeo\n",
      "Me You and Five Bucks\n",
      "Down & Out With The Dolls\n",
      "Crowsnest\n",
      "Sex With Strangers\n",
      "The Helix... Loaded\n",
      "Karachi se Lahore\n",
      "Harrison Montgomery\n",
      "Light from the Darkroom\n",
      "America Is Still the Place\n",
      "The Little Ponderosa Zoo\n",
      "Diamond Ruff\n",
      "Rise of the Entrepreneur: The Search for a Better Way\n",
      "I Want Your Money\n",
      "Fabled\n",
      "Death Calls\n",
      "Amidst the Devil's Wings\n",
      "Teeth and Blood\n",
      "UnDivided\n",
      "Little Big Top\n",
      "Short Cut to Nirvana: Kumbh Mela\n",
      "The Blood of My Brother: A Story of Death in Iraq\n",
      "28\n"
     ]
    }
   ],
   "source": [
    "count=0\n",
    "for title, cast_list in zip(total_df['title'], total_df[\"crew\"]):\n",
    "    if not cast_list:\n",
    "        print(title)\n",
    "        count+=1\n",
    "print(count)"
   ]
  },
  {
   "cell_type": "code",
   "execution_count": 6,
   "metadata": {},
   "outputs": [],
   "source": [
    "director_list = list()\n",
    "director_set = set()\n",
    "for title, crew_list in zip(total_df['title'], total_df['crew']):\n",
    "    temp = list()\n",
    "    for one_crew_dict in crew_list:\n",
    "        if one_crew_dict['job'] == 'Director':\n",
    "            temp.append(one_crew_dict['name'])\n",
    "            director_set.add(one_crew_dict['name'])\n",
    "    director_list.append(temp)\n",
    "#total_df['director'] = directors"
   ]
  },
  {
   "cell_type": "code",
   "execution_count": 7,
   "metadata": {},
   "outputs": [
    {
     "name": "stdout",
     "output_type": "stream",
     "text": [
      "2577\n"
     ]
    }
   ],
   "source": [
    "director_list\n",
    "director_set\n",
    "director_dict = dict()\n",
    "director_dict = dict.fromkeys(director_set)\n",
    "count = 0\n",
    "for key in director_dict.keys():\n",
    "    director_dict[key] = count\n",
    "    count+=1\n",
    "director_rev_dict = {v:k for k,v in director_dict.items()}\n",
    "print(count)"
   ]
  },
  {
   "cell_type": "code",
   "execution_count": 8,
   "metadata": {},
   "outputs": [
    {
     "name": "stdout",
     "output_type": "stream",
     "text": [
      "4803\n"
     ]
    }
   ],
   "source": [
    "director_vector = list()\n",
    "for directors in director_list:\n",
    "    temp_director = [0]*2577\n",
    "    temp_name = list()\n",
    "    for director in directors:\n",
    "        temp_director[director_dict[director]] = 1\n",
    "    director_vector.append(temp_director)\n",
    "\n",
    "print(len(director_vector))\n"
   ]
  },
  {
   "cell_type": "code",
   "execution_count": 9,
   "metadata": {},
   "outputs": [],
   "source": [
    "import numpy as np\n",
    "\n",
    "column_names = list()\n",
    "count = 0\n",
    "while True:\n",
    "    if count >= 2577:\n",
    "        break\n",
    "    name = 'Director' + str(count)\n",
    "    column_names.append(name)\n",
    "    count += 1\n",
    "Directors = pd.DataFrame(director_vector, columns=column_names)\n"
   ]
  },
  {
   "cell_type": "code",
   "execution_count": 10,
   "metadata": {},
   "outputs": [],
   "source": [
    "#Directors['names'] = director_list"
   ]
  },
  {
   "cell_type": "code",
   "execution_count": 11,
   "metadata": {},
   "outputs": [],
   "source": [
    "director_count = list()\n",
    "for item in director_list:\n",
    "    director_count.append(len(item))\n",
    "#Directors['count'] = director_count"
   ]
  },
  {
   "cell_type": "code",
   "execution_count": 12,
   "metadata": {},
   "outputs": [],
   "source": [
    "#Directors['title'] = total_df['title']"
   ]
  },
  {
   "cell_type": "code",
   "execution_count": 13,
   "metadata": {},
   "outputs": [],
   "source": [
    "#title_director = pd.DataFrame({'title' : Directors['title'], 'count' : Directors['count']})"
   ]
  },
  {
   "cell_type": "code",
   "execution_count": 14,
   "metadata": {},
   "outputs": [],
   "source": [
    "#title_director.head(10)"
   ]
  },
  {
   "cell_type": "code",
   "execution_count": 15,
   "metadata": {},
   "outputs": [],
   "source": [
    "#title_director.plot(x='title', y='count')"
   ]
  },
  {
   "cell_type": "markdown",
   "metadata": {},
   "source": [
    "# Production Companies vectorize\n",
    "## production company 의 종류 개수 : 5017\n",
    "## 한 영화가 가진 가장 많은 production company의 종류 개수 : 26\n",
    "## 한 영화가 가진 가장 적은 production company의 종류 개수 : 0"
   ]
  },
  {
   "cell_type": "code",
   "execution_count": 16,
   "metadata": {},
   "outputs": [],
   "source": [
    "pro_com_set = set()\n",
    "com_list_list = list()\n",
    "for company_list in total_df['production_companies']:\n",
    "    temp_com_list = list()\n",
    "    for company in company_list:\n",
    "        pro_com_set.add(company['name'])\n",
    "        temp_com_list.append(company['name'])\n",
    "    com_list_list.append(temp_com_list)\n",
    "\n",
    "pro_com_vectors = list()\n",
    "pro_com_dict = dict()\n",
    "pro_com_dict = dict.fromkeys(pro_com_set)\n",
    "count = 0\n",
    "for keyitem in pro_com_dict.keys():\n",
    "    pro_com_dict[keyitem] = count\n",
    "    count += 1\n",
    "\n",
    "for com_list in com_list_list:\n",
    "    temp_vec = [0]*5017\n",
    "    for com in com_list:\n",
    "        temp_vec[pro_com_dict[com]] = 1\n",
    "    pro_com_vectors.append(temp_vec)\n",
    "\n",
    "production_com_columns = list()\n",
    "for i in range(5017):\n",
    "    temp_name = 'company' + str(i)\n",
    "    production_com_columns.append(temp_name)\n",
    "\n",
    "Production_Companies = pd.DataFrame(pro_com_vectors, columns = production_com_columns)\n",
    "#Production_Companies['title'] = total_df['title']"
   ]
  },
  {
   "cell_type": "code",
   "execution_count": 17,
   "metadata": {},
   "outputs": [
    {
     "name": "stdout",
     "output_type": "stream",
     "text": [
      "26\n"
     ]
    }
   ],
   "source": [
    "# 한 영화가 가진 가장 많은 production company의 종류 개수 : 26\n",
    "max_len = 0\n",
    "for com_list in com_list_list:\n",
    "    if len(com_list) > max_len:\n",
    "        max_len = len(com_list)\n",
    "print(max_len)"
   ]
  },
  {
   "cell_type": "code",
   "execution_count": 18,
   "metadata": {},
   "outputs": [
    {
     "name": "stdout",
     "output_type": "stream",
     "text": [
      "0\n"
     ]
    }
   ],
   "source": [
    "# 한 영화가 가진 가장 적은 production company의 종류 개수 : 0\n",
    "min_len = 9999\n",
    "for com_list in com_list_list:\n",
    "    if len(com_list) < min_len:\n",
    "        min_len = len(com_list)\n",
    "print(min_len)"
   ]
  },
  {
   "cell_type": "markdown",
   "metadata": {},
   "source": [
    "# Genre vectorize\n",
    "## genre 의 종류 개수 : 20\n",
    "## 한 영화가 가진 가장 많은 genre의 종류 개수 : 7\n",
    "## 한 영화가 가진 가장 적은 genre의 종류 개수 : 0"
   ]
  },
  {
   "cell_type": "code",
   "execution_count": 19,
   "metadata": {},
   "outputs": [
    {
     "name": "stdout",
     "output_type": "stream",
     "text": [
      "20\n",
      "{'Western', 'Family', 'Adventure', 'Animation', 'Mystery', 'History', 'Foreign', 'War', 'Drama', 'Comedy', 'Music', 'Action', 'Crime', 'Science Fiction', 'Thriller', 'Documentary', 'Horror', 'Romance', 'TV Movie', 'Fantasy'}\n"
     ]
    }
   ],
   "source": [
    "genre_set = set()\n",
    "genre_list_list = list()\n",
    "\n",
    "for genre_list in total_df['genres']:\n",
    "    temp_genre = list()\n",
    "    for genre in genre_list:\n",
    "        genre_set.add(genre['name'])\n",
    "        temp_genre.append(genre['name'])\n",
    "    genre_list_list.append(temp_genre)\n",
    "print(len(genre_set))\n",
    "print(genre_set)"
   ]
  },
  {
   "cell_type": "code",
   "execution_count": 20,
   "metadata": {},
   "outputs": [],
   "source": [
    "genre_dict = dict()\n",
    "genre_dict = dict.fromkeys(genre_set)\n",
    "count = 0\n",
    "for key_item in genre_dict.keys():\n",
    "    genre_dict[key_item] = count\n",
    "    count += 1\n",
    "genre_vector = list()\n",
    "for genre_list in genre_list_list:\n",
    "    temp_genre_vec = [0] * 20\n",
    "    for genre in genre_list:\n",
    "        temp_genre_vec[genre_dict[genre]] = 1\n",
    "    genre_vector.append(temp_genre_vec)\n",
    "genre_cols = list()\n",
    "for i in range(20):\n",
    "    temp_genre = 'genre' + str(i)\n",
    "    genre_cols.append(temp_genre)\n",
    "\n",
    "Genre = pd.DataFrame(genre_vector, columns=genre_cols)"
   ]
  },
  {
   "cell_type": "code",
   "execution_count": 21,
   "metadata": {},
   "outputs": [
    {
     "data": {
      "text/html": [
       "<div>\n",
       "<style scoped>\n",
       "    .dataframe tbody tr th:only-of-type {\n",
       "        vertical-align: middle;\n",
       "    }\n",
       "\n",
       "    .dataframe tbody tr th {\n",
       "        vertical-align: top;\n",
       "    }\n",
       "\n",
       "    .dataframe thead th {\n",
       "        text-align: right;\n",
       "    }\n",
       "</style>\n",
       "<table border=\"1\" class=\"dataframe\">\n",
       "  <thead>\n",
       "    <tr style=\"text-align: right;\">\n",
       "      <th></th>\n",
       "      <th>genre0</th>\n",
       "      <th>genre1</th>\n",
       "      <th>genre2</th>\n",
       "      <th>genre3</th>\n",
       "      <th>genre4</th>\n",
       "      <th>genre5</th>\n",
       "      <th>genre6</th>\n",
       "      <th>genre7</th>\n",
       "      <th>genre8</th>\n",
       "      <th>genre9</th>\n",
       "      <th>genre10</th>\n",
       "      <th>genre11</th>\n",
       "      <th>genre12</th>\n",
       "      <th>genre13</th>\n",
       "      <th>genre14</th>\n",
       "      <th>genre15</th>\n",
       "      <th>genre16</th>\n",
       "      <th>genre17</th>\n",
       "      <th>genre18</th>\n",
       "      <th>genre19</th>\n",
       "    </tr>\n",
       "  </thead>\n",
       "  <tbody>\n",
       "    <tr>\n",
       "      <th>0</th>\n",
       "      <td>0</td>\n",
       "      <td>0</td>\n",
       "      <td>1</td>\n",
       "      <td>0</td>\n",
       "      <td>0</td>\n",
       "      <td>0</td>\n",
       "      <td>0</td>\n",
       "      <td>0</td>\n",
       "      <td>0</td>\n",
       "      <td>0</td>\n",
       "      <td>0</td>\n",
       "      <td>1</td>\n",
       "      <td>0</td>\n",
       "      <td>1</td>\n",
       "      <td>0</td>\n",
       "      <td>0</td>\n",
       "      <td>0</td>\n",
       "      <td>0</td>\n",
       "      <td>0</td>\n",
       "      <td>1</td>\n",
       "    </tr>\n",
       "    <tr>\n",
       "      <th>1</th>\n",
       "      <td>0</td>\n",
       "      <td>0</td>\n",
       "      <td>1</td>\n",
       "      <td>0</td>\n",
       "      <td>0</td>\n",
       "      <td>0</td>\n",
       "      <td>0</td>\n",
       "      <td>0</td>\n",
       "      <td>0</td>\n",
       "      <td>0</td>\n",
       "      <td>0</td>\n",
       "      <td>1</td>\n",
       "      <td>0</td>\n",
       "      <td>0</td>\n",
       "      <td>0</td>\n",
       "      <td>0</td>\n",
       "      <td>0</td>\n",
       "      <td>0</td>\n",
       "      <td>0</td>\n",
       "      <td>1</td>\n",
       "    </tr>\n",
       "    <tr>\n",
       "      <th>2</th>\n",
       "      <td>0</td>\n",
       "      <td>0</td>\n",
       "      <td>1</td>\n",
       "      <td>0</td>\n",
       "      <td>0</td>\n",
       "      <td>0</td>\n",
       "      <td>0</td>\n",
       "      <td>0</td>\n",
       "      <td>0</td>\n",
       "      <td>0</td>\n",
       "      <td>0</td>\n",
       "      <td>1</td>\n",
       "      <td>1</td>\n",
       "      <td>0</td>\n",
       "      <td>0</td>\n",
       "      <td>0</td>\n",
       "      <td>0</td>\n",
       "      <td>0</td>\n",
       "      <td>0</td>\n",
       "      <td>0</td>\n",
       "    </tr>\n",
       "    <tr>\n",
       "      <th>3</th>\n",
       "      <td>0</td>\n",
       "      <td>0</td>\n",
       "      <td>0</td>\n",
       "      <td>0</td>\n",
       "      <td>0</td>\n",
       "      <td>0</td>\n",
       "      <td>0</td>\n",
       "      <td>0</td>\n",
       "      <td>1</td>\n",
       "      <td>0</td>\n",
       "      <td>0</td>\n",
       "      <td>1</td>\n",
       "      <td>1</td>\n",
       "      <td>0</td>\n",
       "      <td>1</td>\n",
       "      <td>0</td>\n",
       "      <td>0</td>\n",
       "      <td>0</td>\n",
       "      <td>0</td>\n",
       "      <td>0</td>\n",
       "    </tr>\n",
       "    <tr>\n",
       "      <th>4</th>\n",
       "      <td>0</td>\n",
       "      <td>0</td>\n",
       "      <td>1</td>\n",
       "      <td>0</td>\n",
       "      <td>0</td>\n",
       "      <td>0</td>\n",
       "      <td>0</td>\n",
       "      <td>0</td>\n",
       "      <td>0</td>\n",
       "      <td>0</td>\n",
       "      <td>0</td>\n",
       "      <td>1</td>\n",
       "      <td>0</td>\n",
       "      <td>1</td>\n",
       "      <td>0</td>\n",
       "      <td>0</td>\n",
       "      <td>0</td>\n",
       "      <td>0</td>\n",
       "      <td>0</td>\n",
       "      <td>0</td>\n",
       "    </tr>\n",
       "    <tr>\n",
       "      <th>5</th>\n",
       "      <td>0</td>\n",
       "      <td>0</td>\n",
       "      <td>1</td>\n",
       "      <td>0</td>\n",
       "      <td>0</td>\n",
       "      <td>0</td>\n",
       "      <td>0</td>\n",
       "      <td>0</td>\n",
       "      <td>0</td>\n",
       "      <td>0</td>\n",
       "      <td>0</td>\n",
       "      <td>1</td>\n",
       "      <td>0</td>\n",
       "      <td>0</td>\n",
       "      <td>0</td>\n",
       "      <td>0</td>\n",
       "      <td>0</td>\n",
       "      <td>0</td>\n",
       "      <td>0</td>\n",
       "      <td>1</td>\n",
       "    </tr>\n",
       "    <tr>\n",
       "      <th>6</th>\n",
       "      <td>0</td>\n",
       "      <td>1</td>\n",
       "      <td>0</td>\n",
       "      <td>1</td>\n",
       "      <td>0</td>\n",
       "      <td>0</td>\n",
       "      <td>0</td>\n",
       "      <td>0</td>\n",
       "      <td>0</td>\n",
       "      <td>0</td>\n",
       "      <td>0</td>\n",
       "      <td>0</td>\n",
       "      <td>0</td>\n",
       "      <td>0</td>\n",
       "      <td>0</td>\n",
       "      <td>0</td>\n",
       "      <td>0</td>\n",
       "      <td>0</td>\n",
       "      <td>0</td>\n",
       "      <td>0</td>\n",
       "    </tr>\n",
       "    <tr>\n",
       "      <th>7</th>\n",
       "      <td>0</td>\n",
       "      <td>0</td>\n",
       "      <td>1</td>\n",
       "      <td>0</td>\n",
       "      <td>0</td>\n",
       "      <td>0</td>\n",
       "      <td>0</td>\n",
       "      <td>0</td>\n",
       "      <td>0</td>\n",
       "      <td>0</td>\n",
       "      <td>0</td>\n",
       "      <td>1</td>\n",
       "      <td>0</td>\n",
       "      <td>1</td>\n",
       "      <td>0</td>\n",
       "      <td>0</td>\n",
       "      <td>0</td>\n",
       "      <td>0</td>\n",
       "      <td>0</td>\n",
       "      <td>0</td>\n",
       "    </tr>\n",
       "    <tr>\n",
       "      <th>8</th>\n",
       "      <td>0</td>\n",
       "      <td>1</td>\n",
       "      <td>1</td>\n",
       "      <td>0</td>\n",
       "      <td>0</td>\n",
       "      <td>0</td>\n",
       "      <td>0</td>\n",
       "      <td>0</td>\n",
       "      <td>0</td>\n",
       "      <td>0</td>\n",
       "      <td>0</td>\n",
       "      <td>0</td>\n",
       "      <td>0</td>\n",
       "      <td>0</td>\n",
       "      <td>0</td>\n",
       "      <td>0</td>\n",
       "      <td>0</td>\n",
       "      <td>0</td>\n",
       "      <td>0</td>\n",
       "      <td>1</td>\n",
       "    </tr>\n",
       "    <tr>\n",
       "      <th>9</th>\n",
       "      <td>0</td>\n",
       "      <td>0</td>\n",
       "      <td>1</td>\n",
       "      <td>0</td>\n",
       "      <td>0</td>\n",
       "      <td>0</td>\n",
       "      <td>0</td>\n",
       "      <td>0</td>\n",
       "      <td>0</td>\n",
       "      <td>0</td>\n",
       "      <td>0</td>\n",
       "      <td>1</td>\n",
       "      <td>0</td>\n",
       "      <td>0</td>\n",
       "      <td>0</td>\n",
       "      <td>0</td>\n",
       "      <td>0</td>\n",
       "      <td>0</td>\n",
       "      <td>0</td>\n",
       "      <td>1</td>\n",
       "    </tr>\n",
       "  </tbody>\n",
       "</table>\n",
       "</div>"
      ],
      "text/plain": [
       "   genre0  genre1  genre2  genre3  genre4  genre5  genre6  genre7  genre8  \\\n",
       "0       0       0       1       0       0       0       0       0       0   \n",
       "1       0       0       1       0       0       0       0       0       0   \n",
       "2       0       0       1       0       0       0       0       0       0   \n",
       "3       0       0       0       0       0       0       0       0       1   \n",
       "4       0       0       1       0       0       0       0       0       0   \n",
       "5       0       0       1       0       0       0       0       0       0   \n",
       "6       0       1       0       1       0       0       0       0       0   \n",
       "7       0       0       1       0       0       0       0       0       0   \n",
       "8       0       1       1       0       0       0       0       0       0   \n",
       "9       0       0       1       0       0       0       0       0       0   \n",
       "\n",
       "   genre9  genre10  genre11  genre12  genre13  genre14  genre15  genre16  \\\n",
       "0       0        0        1        0        1        0        0        0   \n",
       "1       0        0        1        0        0        0        0        0   \n",
       "2       0        0        1        1        0        0        0        0   \n",
       "3       0        0        1        1        0        1        0        0   \n",
       "4       0        0        1        0        1        0        0        0   \n",
       "5       0        0        1        0        0        0        0        0   \n",
       "6       0        0        0        0        0        0        0        0   \n",
       "7       0        0        1        0        1        0        0        0   \n",
       "8       0        0        0        0        0        0        0        0   \n",
       "9       0        0        1        0        0        0        0        0   \n",
       "\n",
       "   genre17  genre18  genre19  \n",
       "0        0        0        1  \n",
       "1        0        0        1  \n",
       "2        0        0        0  \n",
       "3        0        0        0  \n",
       "4        0        0        0  \n",
       "5        0        0        1  \n",
       "6        0        0        0  \n",
       "7        0        0        0  \n",
       "8        0        0        1  \n",
       "9        0        0        1  "
      ]
     },
     "execution_count": 21,
     "metadata": {},
     "output_type": "execute_result"
    }
   ],
   "source": [
    "Genre.head(10)"
   ]
  },
  {
   "cell_type": "code",
   "execution_count": 22,
   "metadata": {},
   "outputs": [
    {
     "name": "stdout",
     "output_type": "stream",
     "text": [
      "7\n"
     ]
    }
   ],
   "source": [
    "# 한 영화가 가진 가장 많은 genre의 종류 개수 : 7\n",
    "max_len = 0\n",
    "for genre_list in genre_list_list:\n",
    "    if len(genre_list) > max_len:\n",
    "        max_len = len(genre_list)\n",
    "print(max_len)"
   ]
  },
  {
   "cell_type": "code",
   "execution_count": 23,
   "metadata": {},
   "outputs": [
    {
     "name": "stdout",
     "output_type": "stream",
     "text": [
      "0\n"
     ]
    }
   ],
   "source": [
    "# 한 영화가 가진 가장 적은 genre의 종류 개수 : 0\n",
    "min_len = 9999\n",
    "for genre_list in genre_list_list:\n",
    "    if len(genre_list) < min_len:\n",
    "        min_len = len(genre_list)\n",
    "print(min_len)"
   ]
  },
  {
   "cell_type": "markdown",
   "metadata": {},
   "source": [
    "# Overview vectorize - tf-idf를 사용.\n",
    "# sparse matrix를 기반으로 cosine similarity를 계산\n",
    "1. sci-kit learn의 TfidfVectorizer 모듈을 사용하여 row : movie, column : 단어의 빈도수인 행렬을 만든다. \n",
    "\n",
    "2. sci-kit learn의 cosine_similarities()보다 속도면에서 우수한 linear_kernel()을 사용하여 cosine similarity score를 계산"
   ]
  },
  {
   "cell_type": "code",
   "execution_count": 24,
   "metadata": {},
   "outputs": [
    {
     "data": {
      "text/plain": [
       "(4803, 20978)"
      ]
     },
     "execution_count": 24,
     "metadata": {},
     "output_type": "execute_result"
    }
   ],
   "source": [
    "from sklearn.feature_extraction.text import TfidfVectorizer\n",
    "\n",
    "tfidf = TfidfVectorizer(stop_words = 'english')\n",
    "\n",
    "total_df['overview'] = total_df['overview'].fillna('')\n",
    "\n",
    "# construct TF-IDF matrix by fitting and transforming the overview data\n",
    "tfidf_matrix = tfidf.fit_transform(total_df['overview'])\n",
    "\n",
    "# output the shape of tfidf_matrix\n",
    "tfidf_matrix.shape"
   ]
  },
  {
   "cell_type": "code",
   "execution_count": 25,
   "metadata": {},
   "outputs": [
    {
     "data": {
      "text/plain": [
       "<100757334x100757334 sparse matrix of type '<class 'numpy.float64'>'\n",
       "\twith 125840 stored elements in Compressed Sparse Row format>"
      ]
     },
     "execution_count": 25,
     "metadata": {},
     "output_type": "execute_result"
    }
   ],
   "source": [
    "import scipy\n",
    "# overview 학습의 결과를 unpack 해보았다.\n",
    "M1 = scipy.sparse.diags(tfidf_matrix.A.ravel()).tocsr()\n",
    "M1"
   ]
  },
  {
   "cell_type": "code",
   "execution_count": 26,
   "metadata": {},
   "outputs": [],
   "source": [
    "from sklearn.metrics.pairwise import linear_kernel\n",
    "\n",
    "cosine_similarity = linear_kernel(tfidf_matrix, tfidf_matrix)\n",
    "\n",
    "indices = pd.Series(total_df.index, index=total_df['title']).drop_duplicates()\n",
    "\n",
    "# Function that takes in movie title as input and outputs most similar movies\n",
    "def get_recommendations(title, target_count=10, cosine_sim=cosine_similarity):\n",
    "    idx = indices[title]\n",
    "    sim_scores = list(enumerate(cosine_sim[idx]))\n",
    "    sim_scores = sorted(sim_scores, key=lambda x : x[1], reverse = True)\n",
    "    sim_scores = sim_scores[1:1 + target_count] # except for itself\n",
    "    movies_indices = [i[0] for i in sim_scores]\n",
    "    for index, score in zip(movies_indices, sim_scores):\n",
    "        print(\"index:\", score[0],\"  \",\"score:\", score[1], \"   \", total_df['title'].iloc[index])\n",
    "    #return total_df['title'].iloc[movies_indices]"
   ]
  },
  {
   "cell_type": "code",
   "execution_count": 27,
   "metadata": {},
   "outputs": [
    {
     "name": "stdout",
     "output_type": "stream",
     "text": [
      "index: 3604    score: 0.1868100105621205     Apollo 18\n",
      "index: 2130    score: 0.17015105119162663     The American\n",
      "index: 634    score: 0.13230696630317224     The Matrix\n",
      "index: 1341    score: 0.12393264590871877     The Inhabited Island\n",
      "index: 529    score: 0.12248959164893025     Tears of the Sun\n",
      "index: 1610    score: 0.1046990303761563     Hanna\n",
      "index: 311    score: 0.10091388184065114     The Adventures of Pluto Nash\n",
      "index: 847    score: 0.09799623121705055     Semi-Pro\n",
      "index: 775    score: 0.09447938436890334     Supernova\n",
      "index: 2628    score: 0.09313854469530522     Blood and Chocolate\n"
     ]
    }
   ],
   "source": [
    "get_recommendations('Avatar')"
   ]
  },
  {
   "cell_type": "code",
   "execution_count": 28,
   "metadata": {},
   "outputs": [],
   "source": [
    "cast_all = dict()\n",
    "for cast_group in total_df['cast']:\n",
    "    for cast in cast_group:\n",
    "        if cast['id'] in cast_all:\n",
    "            cast_all[cast['id']][1] += 1\n",
    "        else:\n",
    "            cast_all[cast['id']] = [cast['name'], 1]"
   ]
  },
  {
   "cell_type": "code",
   "execution_count": 29,
   "metadata": {},
   "outputs": [
    {
     "data": {
      "text/plain": [
       "54588"
      ]
     },
     "execution_count": 29,
     "metadata": {},
     "output_type": "execute_result"
    }
   ],
   "source": [
    "len(cast_all)"
   ]
  },
  {
   "cell_type": "code",
   "execution_count": 30,
   "metadata": {},
   "outputs": [],
   "source": [
    "cast_freq = list(cast_all.values())\n",
    "cast_freq.sort(reverse=True, key=lambda x: (x[1]))"
   ]
  },
  {
   "cell_type": "code",
   "execution_count": 32,
   "metadata": {},
   "outputs": [],
   "source": [
    "cast2vec_dict = dict()\n",
    "count = 0;\n",
    "for cast_id in cast_all.keys():\n",
    "    cast2vec_dict[cast_id] = count\n",
    "    count += 1\n",
    "\n",
    "cast_vectors = list()\n",
    "for cast_group in total_df['cast']:\n",
    "    cast_vector = [0] * len(cast_all)\n",
    "    for cast in cast_group:\n",
    "        cast_vector[cast2vec_dict[cast['id']]] = 1\n",
    "    cast_vectors.append(cast_vector)"
   ]
  },
  {
   "cell_type": "code",
   "execution_count": 33,
   "metadata": {},
   "outputs": [
    {
     "data": {
      "text/plain": [
       "54588"
      ]
     },
     "execution_count": 33,
     "metadata": {},
     "output_type": "execute_result"
    }
   ],
   "source": [
    "len(cast_vectors[0])"
   ]
  },
  {
   "cell_type": "code",
   "execution_count": 34,
   "metadata": {},
   "outputs": [],
   "source": [
    "cast_col = list()\n",
    "count = 0\n",
    "for ele in cast_vectors[0]:\n",
    "    name = 'cast' + str(count)\n",
    "    count += 1\n",
    "    cast_col.append(name)"
   ]
  },
  {
   "cell_type": "code",
   "execution_count": 35,
   "metadata": {},
   "outputs": [],
   "source": [
    "Cast = pd.DataFrame(cast_vectors, columns=cast_col)"
   ]
  },
  {
   "cell_type": "code",
   "execution_count": 36,
   "metadata": {},
   "outputs": [
    {
     "data": {
      "text/plain": [
       "(4803, 54588)"
      ]
     },
     "execution_count": 36,
     "metadata": {},
     "output_type": "execute_result"
    }
   ],
   "source": [
    "Cast.shape"
   ]
  },
  {
   "cell_type": "markdown",
   "metadata": {},
   "source": [
    "# Director, Genre, Production Companies, Cast 벡터화 완료\n",
    "## 각 벡터화의 결과를 DataFrame 형태로 저장함\n",
    "## 각 DataFrame의 shape를 확인"
   ]
  },
  {
   "cell_type": "code",
   "execution_count": 37,
   "metadata": {},
   "outputs": [
    {
     "name": "stdout",
     "output_type": "stream",
     "text": [
      "--------------------------------------------------------------\n",
      "--------------------Vectorization Complete--------------------\n",
      "Director shape :  (4803, 2577)\n",
      "Genre shape (4803, 20)\n",
      "Production Companies shape :  (4803, 5017)\n",
      "Cast shape :  (4803, 54588)\n",
      "--------------------------------------------------------------\n"
     ]
    }
   ],
   "source": [
    "print('-'*62)\n",
    "print(\"-\"*20 + \"Vectorization Complete\" + \"-\"*20)\n",
    "print(\"Director shape : \", Directors.shape)\n",
    "print(\"Genre shape\", Genre.shape)\n",
    "print(\"Production Companies shape : \", Production_Companies.shape)\n",
    "print(\"Cast shape : \", Cast.shape)\n",
    "print('-'*62)"
   ]
  },
  {
   "cell_type": "markdown",
   "metadata": {},
   "source": [
    "# cosine similarity 를 구하기 위해 numpy array 를 sparse matrix으로 변환"
   ]
  },
  {
   "cell_type": "code",
   "execution_count": 38,
   "metadata": {},
   "outputs": [],
   "source": [
    "from scipy import sparse\n",
    "\n",
    "Directors_sparse = sparse.csr_matrix(Directors.values)\n",
    "Genre_sparse = sparse.csr_matrix(Genre.values)\n",
    "Procom_sparse = sparse.csr_matrix(Production_Companies.values)\n",
    "Cast_sparse = sparse.csr_matrix(Cast.values)"
   ]
  },
  {
   "cell_type": "markdown",
   "metadata": {},
   "source": [
    "# 영화의 수가 4800여개뿐이므로 감독 데이터만으로는 상위 10개의 유사도를 갖는 영화들의 목록을 정확히 얻을 수 없다는 것을 알 수 있다."
   ]
  },
  {
   "cell_type": "code",
   "execution_count": 39,
   "metadata": {},
   "outputs": [
    {
     "name": "stdout",
     "output_type": "stream",
     "text": [
      "index: 65    score: 1.0     The Dark Knight\n",
      "index: 95    score: 1.0     Interstellar\n",
      "index: 96    score: 1.0     Inception\n",
      "index: 119    score: 1.0     Batman Begins\n",
      "index: 1033    score: 1.0     Insomnia\n",
      "index: 1196    score: 1.0     The Prestige\n",
      "index: 3573    score: 1.0     Memento\n",
      "index: 0    score: 0.0     Avatar\n",
      "index: 1    score: 0.0     Pirates of the Caribbean: At World's End\n",
      "index: 2    score: 0.0     Spectre\n"
     ]
    }
   ],
   "source": [
    "cosine_sim_directors = linear_kernel(Directors_sparse, Directors_sparse)\n",
    "get_recommendations('The Dark Knight Rises',10, cosine_sim_directors)"
   ]
  },
  {
   "cell_type": "code",
   "execution_count": 40,
   "metadata": {},
   "outputs": [
    {
     "name": "stdout",
     "output_type": "stream",
     "text": [
      "index: 65    score: 4.0     The Dark Knight\n",
      "index: 405    score: 4.0     The Fast and the Furious: Tokyo Drift\n",
      "index: 590    score: 4.0     The Siege\n",
      "index: 629    score: 4.0     Need for Speed\n",
      "index: 724    score: 4.0     Man on Fire\n",
      "index: 741    score: 4.0     Shooter\n",
      "index: 747    score: 4.0     Gangster Squad\n",
      "index: 761    score: 4.0     Righteous Kill\n",
      "index: 762    score: 4.0     Mercury Rising\n",
      "index: 767    score: 4.0     xXx: State of the Union\n"
     ]
    }
   ],
   "source": [
    "cosine_sim_genre = linear_kernel(Genre_sparse, Genre_sparse)\n",
    "get_recommendations('The Dark Knight Rises',10, cosine_sim_genre)"
   ]
  },
  {
   "cell_type": "code",
   "execution_count": 41,
   "metadata": {},
   "outputs": [
    {
     "name": "stdout",
     "output_type": "stream",
     "text": [
      "index: 14    score: 4.0     Man of Steel\n",
      "index: 65    score: 4.0     The Dark Knight\n",
      "index: 119    score: 4.0     Batman Begins\n",
      "index: 95    score: 3.0     Interstellar\n",
      "index: 96    score: 3.0     Inception\n",
      "index: 9    score: 2.0     Batman v Superman: Dawn of Justice\n",
      "index: 10    score: 2.0     Superman Returns\n",
      "index: 41    score: 2.0     Green Lantern\n",
      "index: 48    score: 2.0     Jack the Giant Slayer\n",
      "index: 51    score: 2.0     Pacific Rim\n"
     ]
    }
   ],
   "source": [
    "cosine_sim_procom = linear_kernel(Procom_sparse, Procom_sparse)\n",
    "get_recommendations('The Dark Knight Rises',10, cosine_sim_procom)"
   ]
  },
  {
   "cell_type": "code",
   "execution_count": 42,
   "metadata": {},
   "outputs": [
    {
     "name": "stdout",
     "output_type": "stream",
     "text": [
      "index: 65    score: 7.0     The Dark Knight\n",
      "index: 96    score: 7.0     Inception\n",
      "index: 119    score: 7.0     Batman Begins\n",
      "index: 298    score: 7.0     The Wolf of Wall Street\n",
      "index: 95    score: 6.0     Interstellar\n",
      "index: 2060    score: 6.0     Out of the Furnace\n",
      "index: 1424    score: 5.0     Concussion\n",
      "index: 16    score: 4.0     The Avengers\n",
      "index: 1196    score: 4.0     The Prestige\n",
      "index: 27    score: 3.0     Battleship\n"
     ]
    }
   ],
   "source": [
    "cosine_sim_cast = linear_kernel(Cast_sparse, Cast_sparse)\n",
    "get_recommendations('The Dark Knight Rises',10, cosine_sim_cast)"
   ]
  },
  {
   "cell_type": "code",
   "execution_count": 43,
   "metadata": {},
   "outputs": [],
   "source": [
    "def get_cast_by_index(idx):\n",
    "    cast = total_df.values[idx][9]\n",
    "    return [actor_data['name'] for actor_data in cast]\n",
    "def get_cast_by_title(title):\n",
    "    return get_cast_by_index(indices[title])"
   ]
  },
  {
   "cell_type": "code",
   "execution_count": 44,
   "metadata": {},
   "outputs": [
    {
     "name": "stdout",
     "output_type": "stream",
     "text": [
      "Liam Neeson\n",
      "James Rawlings\n",
      "Josh Pence\n"
     ]
    }
   ],
   "source": [
    "battleship_cast = get_cast_by_index(27)\n",
    "knight_cast = get_cast_by_index(3)\n",
    "\n",
    "for bat in battleship_cast:\n",
    "    for kni in knight_cast:\n",
    "        if bat == kni:\n",
    "            print(bat)"
   ]
  },
  {
   "cell_type": "code",
   "execution_count": 45,
   "metadata": {},
   "outputs": [],
   "source": [
    "from operator import add\n",
    "\n",
    "def total_recommendation(title, target_count=10):\n",
    "    idx = indices[title]\n",
    "    # overview score\n",
    "    cos_sim_overview = linear_kernel(tfidf_matrix, tfidf_matrix)\n",
    "    sim_scores_overview = list(enumerate(cos_sim_overview[idx]))\n",
    "    #sim_scores_overview = list(map(lambda x[1]:x[1]*10000, sim_scores_overview))\n",
    "    \n",
    "    # Director score\n",
    "    cos_sim_director = linear_kernel(Directors_sparse, Directors_sparse)\n",
    "    sim_scores_director = list(enumerate(cos_sim_director[idx]))\n",
    "    \n",
    "    # Production Companies score\n",
    "    cos_sim_procom = linear_kernel(Procom_sparse, Procom_sparse)\n",
    "    sim_scores_procom = list(enumerate(cos_sim_procom[idx]))\n",
    "    \n",
    "    # Genre score\n",
    "    cos_sim_genre = linear_kernel(Genre_sparse, Genre_sparse)\n",
    "    sim_scores_genre = list(enumerate(cos_sim_genre[idx]))\n",
    "    \n",
    "    # Cast socre\n",
    "    cos_sim_cast = linear_kernel(Cast_sparse, Cast_sparse)\n",
    "    sim_scores_cast = list(enumerate(cos_sim_cast[idx]))\n",
    "    \n",
    "    #total_scores = [sum(x[0]) for x in zip(sim_scores_overview, sim_scores_director, sim_scores_procom, sim_scores_genre, sim_scores_cast)]\n",
    "    \n",
    "    \n",
    "    \"\"\"\n",
    "    sim_scores_overview = sorted(sim_scores_overview, key=lambda x : x[1], reverse = True)\n",
    "    sim_scores_overview = sim_scores_overview[1:1 + target_count] # except for itself\n",
    "    \"\"\"\n",
    "    total_scores = list()\n",
    "    for x in zip(sim_scores_overview, sim_scores_director, sim_scores_procom, sim_scores_genre, sim_scores_cast):\n",
    "        total_score = 0\n",
    "        for idx, score in enumerate(x):\n",
    "            if idx == 0:\n",
    "                total_score += 100*score[1]\n",
    "            total_score += score[1]\n",
    "        total_scores.append(total_score)\n",
    "        \n",
    "    total_result = sorted(enumerate(total_scores), key=lambda x : x[1], reverse = True)\n",
    "    total_result = total_result[1:1+target_count]\n",
    "    movies_indicies = [i[0] for i in total_result]\n",
    "    \n",
    "    recommendation_result = list()\n",
    "    \n",
    "    for title, ind, score in  zip(total_df['title'].iloc[movies_indicies], movies_indicies, total_result):\n",
    "        recommendation_result.append([ind, score[1], title])\n",
    "    \n",
    "    return recommendation_result\n",
    "\n",
    "    \"\"\"\n",
    "    movies_indices = [i[0] for i in sim_scores]\n",
    "    for index, score in zip(movies_indices, sim_scores):\n",
    "        print(\"index:\", score[0],\"  \",\"score:\", score[1], \"   \", total_df['title'].iloc[index])\n",
    "    #return total_df['title'].iloc[movies_indices]\n",
    "    \"\"\""
   ]
  },
  {
   "cell_type": "code",
   "execution_count": 46,
   "metadata": {
    "scrolled": false
   },
   "outputs": [
    {
     "data": {
      "text/plain": [
       "[[7, 31.783807514395612, 'Avengers: Age of Ultron'],\n",
       " [85, 18.86850064026152, 'Captain America: The Winter Soldier'],\n",
       " [3144, 13.401932420447402, 'Plastic'],\n",
       " [1715, 13.148903861028042, 'Timecop'],\n",
       " [26, 12.92263364135301, 'Captain America: Civil War'],\n",
       " [129, 12.759879877796381, 'Thor'],\n",
       " [31, 12.322123867726315, 'Iron Man 3'],\n",
       " [2136, 12.316601667911371, 'Team America: World Police'],\n",
       " [4124, 11.86045062897238, 'This Thing of Ours'],\n",
       " [79, 11.771264278951355, 'Iron Man 2']]"
      ]
     },
     "execution_count": 46,
     "metadata": {},
     "output_type": "execute_result"
    }
   ],
   "source": [
    "total_recommendation(\"The Avengers\")"
   ]
  }
 ],
 "metadata": {
  "kernelspec": {
   "display_name": "Python 3",
   "language": "python",
   "name": "python3"
  },
  "language_info": {
   "codemirror_mode": {
    "name": "ipython",
    "version": 3
   },
   "file_extension": ".py",
   "mimetype": "text/x-python",
   "name": "python",
   "nbconvert_exporter": "python",
   "pygments_lexer": "ipython3",
   "version": "3.6.5"
  }
 },
 "nbformat": 4,
 "nbformat_minor": 2
}
