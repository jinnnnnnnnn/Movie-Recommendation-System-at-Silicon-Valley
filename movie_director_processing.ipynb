{
 "cells": [
  {
   "cell_type": "markdown",
   "metadata": {},
   "source": [
    "# movie data preprocessing\n",
    "## 프로젝트에 사용되지 않는 컬럼을 버린다\n",
    "## movies와 credits dataframe을 merge한다.\n",
    "### budget, homepage, original_language, original_title, production_countries, release_date, revenue, spoken_language, status\n",
    "## crew 컬럼에서 director를 뽑아내서 새로운 컬럼으로 만든다.\n",
    "### director1 ~ director 종류수"
   ]
  },
  {
   "cell_type": "code",
   "execution_count": 1,
   "metadata": {},
   "outputs": [],
   "source": [
    "import pandas as pd\n",
    "import numpy as npc\n",
    "\n",
    "movies_df = pd.read_csv(\"data/tmdb_5000_movies.csv\")\n",
    "# drop columns\n",
    "# budget, homepage, original_language, original_title, production_countries, release_date,\n",
    "# revenue, spoken_languages, status\n",
    "movies_df = movies_df.drop(columns=['budget', 'homepage', 'original_language', 'original_title', 'production_countries',\n",
    "                                    'release_date', 'revenue', 'spoken_languages', 'status'])"
   ]
  },
  {
   "cell_type": "code",
   "execution_count": 2,
   "metadata": {},
   "outputs": [
    {
     "data": {
      "text/html": [
       "<div>\n",
       "<style scoped>\n",
       "    .dataframe tbody tr th:only-of-type {\n",
       "        vertical-align: middle;\n",
       "    }\n",
       "\n",
       "    .dataframe tbody tr th {\n",
       "        vertical-align: top;\n",
       "    }\n",
       "\n",
       "    .dataframe thead th {\n",
       "        text-align: right;\n",
       "    }\n",
       "</style>\n",
       "<table border=\"1\" class=\"dataframe\">\n",
       "  <thead>\n",
       "    <tr style=\"text-align: right;\">\n",
       "      <th></th>\n",
       "      <th>id</th>\n",
       "      <th>cast</th>\n",
       "      <th>crew</th>\n",
       "    </tr>\n",
       "  </thead>\n",
       "  <tbody>\n",
       "    <tr>\n",
       "      <th>0</th>\n",
       "      <td>19995</td>\n",
       "      <td>[{\"cast_id\": 242, \"character\": \"Jake Sully\", \"...</td>\n",
       "      <td>[{\"credit_id\": \"52fe48009251416c750aca23\", \"de...</td>\n",
       "    </tr>\n",
       "    <tr>\n",
       "      <th>1</th>\n",
       "      <td>285</td>\n",
       "      <td>[{\"cast_id\": 4, \"character\": \"Captain Jack Spa...</td>\n",
       "      <td>[{\"credit_id\": \"52fe4232c3a36847f800b579\", \"de...</td>\n",
       "    </tr>\n",
       "    <tr>\n",
       "      <th>2</th>\n",
       "      <td>206647</td>\n",
       "      <td>[{\"cast_id\": 1, \"character\": \"James Bond\", \"cr...</td>\n",
       "      <td>[{\"credit_id\": \"54805967c3a36829b5002c41\", \"de...</td>\n",
       "    </tr>\n",
       "    <tr>\n",
       "      <th>3</th>\n",
       "      <td>49026</td>\n",
       "      <td>[{\"cast_id\": 2, \"character\": \"Bruce Wayne / Ba...</td>\n",
       "      <td>[{\"credit_id\": \"52fe4781c3a36847f81398c3\", \"de...</td>\n",
       "    </tr>\n",
       "    <tr>\n",
       "      <th>4</th>\n",
       "      <td>49529</td>\n",
       "      <td>[{\"cast_id\": 5, \"character\": \"John Carter\", \"c...</td>\n",
       "      <td>[{\"credit_id\": \"52fe479ac3a36847f813eaa3\", \"de...</td>\n",
       "    </tr>\n",
       "  </tbody>\n",
       "</table>\n",
       "</div>"
      ],
      "text/plain": [
       "       id                                               cast  \\\n",
       "0   19995  [{\"cast_id\": 242, \"character\": \"Jake Sully\", \"...   \n",
       "1     285  [{\"cast_id\": 4, \"character\": \"Captain Jack Spa...   \n",
       "2  206647  [{\"cast_id\": 1, \"character\": \"James Bond\", \"cr...   \n",
       "3   49026  [{\"cast_id\": 2, \"character\": \"Bruce Wayne / Ba...   \n",
       "4   49529  [{\"cast_id\": 5, \"character\": \"John Carter\", \"c...   \n",
       "\n",
       "                                                crew  \n",
       "0  [{\"credit_id\": \"52fe48009251416c750aca23\", \"de...  \n",
       "1  [{\"credit_id\": \"52fe4232c3a36847f800b579\", \"de...  \n",
       "2  [{\"credit_id\": \"54805967c3a36829b5002c41\", \"de...  \n",
       "3  [{\"credit_id\": \"52fe4781c3a36847f81398c3\", \"de...  \n",
       "4  [{\"credit_id\": \"52fe479ac3a36847f813eaa3\", \"de...  "
      ]
     },
     "execution_count": 2,
     "metadata": {},
     "output_type": "execute_result"
    }
   ],
   "source": [
    "credits_df = pd.read_csv(\"data/tmdb_5000_credits.csv\")\n",
    "credits_df = credits_df.drop(columns=['title'])\n",
    "credits_df.columns=['id', 'cast', 'crew']\n",
    "credits_df.head()"
   ]
  },
  {
   "cell_type": "code",
   "execution_count": 3,
   "metadata": {
    "scrolled": true
   },
   "outputs": [],
   "source": [
    "total_df = movies_df.join(credits_df.set_index('id'), on='id')"
   ]
  },
  {
   "cell_type": "code",
   "execution_count": 4,
   "metadata": {},
   "outputs": [
    {
     "name": "stdout",
     "output_type": "stream",
     "text": [
      "<class 'pandas.core.frame.DataFrame'>\n",
      "RangeIndex: 4803 entries, 0 to 4802\n",
      "Data columns (total 13 columns):\n",
      "genres                  4803 non-null object\n",
      "id                      4803 non-null int64\n",
      "keywords                4803 non-null object\n",
      "overview                4800 non-null object\n",
      "popularity              4803 non-null float64\n",
      "production_companies    4803 non-null object\n",
      "runtime                 4801 non-null float64\n",
      "tagline                 3959 non-null object\n",
      "title                   4803 non-null object\n",
      "vote_average            4803 non-null float64\n",
      "vote_count              4803 non-null int64\n",
      "cast                    4803 non-null object\n",
      "crew                    4803 non-null object\n",
      "dtypes: float64(3), int64(2), object(8)\n",
      "memory usage: 487.9+ KB\n"
     ]
    }
   ],
   "source": [
    "total_df.info()"
   ]
  },
  {
   "cell_type": "code",
   "execution_count": 5,
   "metadata": {},
   "outputs": [],
   "source": [
    "import json\n",
    "\n",
    "json_columns = ['genres', 'keywords', 'cast', 'crew', 'production_companies']\n",
    "for column in json_columns:\n",
    "    total_df[column] = total_df[column].apply(json.loads)\n"
   ]
  },
  {
   "cell_type": "code",
   "execution_count": 6,
   "metadata": {},
   "outputs": [
    {
     "name": "stdout",
     "output_type": "stream",
     "text": [
      "Flying By\n",
      "Running Forever\n",
      "Boynton Beach Club\n",
      "Sharkskin\n",
      "The Book of Mormon Movie, Volume 1: The Journey\n",
      "Hum To Mohabbat Karega\n",
      "Roadside Romeo\n",
      "Me You and Five Bucks\n",
      "Down & Out With The Dolls\n",
      "Crowsnest\n",
      "Sex With Strangers\n",
      "The Helix... Loaded\n",
      "Karachi se Lahore\n",
      "Harrison Montgomery\n",
      "Light from the Darkroom\n",
      "America Is Still the Place\n",
      "The Little Ponderosa Zoo\n",
      "Diamond Ruff\n",
      "Rise of the Entrepreneur: The Search for a Better Way\n",
      "I Want Your Money\n",
      "Fabled\n",
      "Death Calls\n",
      "Amidst the Devil's Wings\n",
      "Teeth and Blood\n",
      "UnDivided\n",
      "Little Big Top\n",
      "Short Cut to Nirvana: Kumbh Mela\n",
      "The Blood of My Brother: A Story of Death in Iraq\n",
      "28\n"
     ]
    }
   ],
   "source": [
    "count=0\n",
    "for title, cast_list in zip(total_df['title'], total_df[\"crew\"]):\n",
    "    if not cast_list:\n",
    "        print(title)\n",
    "        count+=1\n",
    "print(count)"
   ]
  },
  {
   "cell_type": "code",
   "execution_count": 7,
   "metadata": {},
   "outputs": [],
   "source": [
    "director_list = list()\n",
    "director_set = set()\n",
    "for title, crew_list in zip(total_df['title'], total_df['crew']):\n",
    "    temp = list()\n",
    "    for one_crew_dict in crew_list:\n",
    "        if one_crew_dict['job'] == 'Director':\n",
    "            temp.append(one_crew_dict['name'])\n",
    "            director_set.add(one_crew_dict['name'])\n",
    "    director_list.append(temp)\n",
    "#total_df['director'] = directors"
   ]
  },
  {
   "cell_type": "code",
   "execution_count": 8,
   "metadata": {},
   "outputs": [
    {
     "name": "stdout",
     "output_type": "stream",
     "text": [
      "2577\n"
     ]
    }
   ],
   "source": [
    "director_list\n",
    "director_set\n",
    "director_dict = dict()\n",
    "director_dict = dict.fromkeys(director_set)\n",
    "count = 0\n",
    "for key in director_dict.keys():\n",
    "    director_dict[key] = count\n",
    "    count+=1\n",
    "director_rev_dict = {v:k for k,v in director_dict.items()}\n",
    "print(count)"
   ]
  },
  {
   "cell_type": "code",
   "execution_count": 9,
   "metadata": {},
   "outputs": [
    {
     "name": "stdout",
     "output_type": "stream",
     "text": [
      "4803\n"
     ]
    }
   ],
   "source": [
    "director_vector = list()\n",
    "for directors in director_list:\n",
    "    temp_director = [0]*2577\n",
    "    temp_name = list()\n",
    "    for director in directors:\n",
    "        temp_director[director_dict[director]] = 1\n",
    "    director_vector.append(temp_director)\n",
    "\n",
    "print(len(director_vector))\n"
   ]
  },
  {
   "cell_type": "code",
   "execution_count": 10,
   "metadata": {},
   "outputs": [],
   "source": [
    "import numpy as np\n",
    "\n",
    "column_names = list()\n",
    "count = 0\n",
    "while True:\n",
    "    if count >= 2577:\n",
    "        break\n",
    "    name = 'Director' + str(count)\n",
    "    column_names.append(name)\n",
    "    count += 1\n",
    "Directors = pd.DataFrame(director_vector, columns=column_names)\n"
   ]
  },
  {
   "cell_type": "code",
   "execution_count": 11,
   "metadata": {},
   "outputs": [],
   "source": [
    "Directors['names'] = director_list"
   ]
  },
  {
   "cell_type": "code",
   "execution_count": 12,
   "metadata": {},
   "outputs": [],
   "source": [
    "director_count = list()\n",
    "for item in director_list:\n",
    "    director_count.append(len(item))\n",
    "Directors['count'] = director_count"
   ]
  },
  {
   "cell_type": "code",
   "execution_count": 13,
   "metadata": {},
   "outputs": [],
   "source": [
    "Directors['title'] = total_df['title']"
   ]
  },
  {
   "cell_type": "code",
   "execution_count": 14,
   "metadata": {},
   "outputs": [],
   "source": [
    "title_director = pd.DataFrame({'title' : Directors['title'], 'count' : Directors['count']})"
   ]
  },
  {
   "cell_type": "code",
   "execution_count": 15,
   "metadata": {},
   "outputs": [
    {
     "data": {
      "text/html": [
       "<div>\n",
       "<style scoped>\n",
       "    .dataframe tbody tr th:only-of-type {\n",
       "        vertical-align: middle;\n",
       "    }\n",
       "\n",
       "    .dataframe tbody tr th {\n",
       "        vertical-align: top;\n",
       "    }\n",
       "\n",
       "    .dataframe thead th {\n",
       "        text-align: right;\n",
       "    }\n",
       "</style>\n",
       "<table border=\"1\" class=\"dataframe\">\n",
       "  <thead>\n",
       "    <tr style=\"text-align: right;\">\n",
       "      <th></th>\n",
       "      <th>title</th>\n",
       "      <th>count</th>\n",
       "    </tr>\n",
       "  </thead>\n",
       "  <tbody>\n",
       "    <tr>\n",
       "      <th>0</th>\n",
       "      <td>Avatar</td>\n",
       "      <td>1</td>\n",
       "    </tr>\n",
       "    <tr>\n",
       "      <th>1</th>\n",
       "      <td>Pirates of the Caribbean: At World's End</td>\n",
       "      <td>1</td>\n",
       "    </tr>\n",
       "    <tr>\n",
       "      <th>2</th>\n",
       "      <td>Spectre</td>\n",
       "      <td>1</td>\n",
       "    </tr>\n",
       "    <tr>\n",
       "      <th>3</th>\n",
       "      <td>The Dark Knight Rises</td>\n",
       "      <td>1</td>\n",
       "    </tr>\n",
       "    <tr>\n",
       "      <th>4</th>\n",
       "      <td>John Carter</td>\n",
       "      <td>1</td>\n",
       "    </tr>\n",
       "    <tr>\n",
       "      <th>5</th>\n",
       "      <td>Spider-Man 3</td>\n",
       "      <td>1</td>\n",
       "    </tr>\n",
       "    <tr>\n",
       "      <th>6</th>\n",
       "      <td>Tangled</td>\n",
       "      <td>2</td>\n",
       "    </tr>\n",
       "    <tr>\n",
       "      <th>7</th>\n",
       "      <td>Avengers: Age of Ultron</td>\n",
       "      <td>1</td>\n",
       "    </tr>\n",
       "    <tr>\n",
       "      <th>8</th>\n",
       "      <td>Harry Potter and the Half-Blood Prince</td>\n",
       "      <td>1</td>\n",
       "    </tr>\n",
       "    <tr>\n",
       "      <th>9</th>\n",
       "      <td>Batman v Superman: Dawn of Justice</td>\n",
       "      <td>1</td>\n",
       "    </tr>\n",
       "  </tbody>\n",
       "</table>\n",
       "</div>"
      ],
      "text/plain": [
       "                                      title  count\n",
       "0                                    Avatar      1\n",
       "1  Pirates of the Caribbean: At World's End      1\n",
       "2                                   Spectre      1\n",
       "3                     The Dark Knight Rises      1\n",
       "4                               John Carter      1\n",
       "5                              Spider-Man 3      1\n",
       "6                                   Tangled      2\n",
       "7                   Avengers: Age of Ultron      1\n",
       "8    Harry Potter and the Half-Blood Prince      1\n",
       "9        Batman v Superman: Dawn of Justice      1"
      ]
     },
     "execution_count": 15,
     "metadata": {},
     "output_type": "execute_result"
    }
   ],
   "source": [
    "title_director.head(10)"
   ]
  },
  {
   "cell_type": "code",
   "execution_count": 16,
   "metadata": {},
   "outputs": [
    {
     "data": {
      "text/plain": [
       "<matplotlib.axes._subplots.AxesSubplot at 0x13f5d97ce80>"
      ]
     },
     "execution_count": 16,
     "metadata": {},
     "output_type": "execute_result"
    }
   ],
   "source": [
    "title_director.plot(x='title', y='count')"
   ]
  },
  {
   "cell_type": "markdown",
   "metadata": {},
   "source": [
    "# Production Companies vectorize\n",
    "## production company 의 종류 개수 : 5017\n",
    "## 한 영화가 가진 가장 많은 production company의 종류 개수 : 26\n",
    "## 한 영화가 가진 가장 적은 production company의 종류 개수 : 0"
   ]
  },
  {
   "cell_type": "code",
   "execution_count": 17,
   "metadata": {},
   "outputs": [],
   "source": [
    "pro_com_set = set()\n",
    "com_list_list = list()\n",
    "for company_list in total_df['production_companies']:\n",
    "    temp_com_list = list()\n",
    "    for company in company_list:\n",
    "        pro_com_set.add(company['name'])\n",
    "        temp_com_list.append(company['name'])\n",
    "    com_list_list.append(temp_com_list)\n",
    "\n",
    "pro_com_vectors = list()\n",
    "pro_com_dict = dict()\n",
    "pro_com_dict = dict.fromkeys(pro_com_set)\n",
    "count = 0\n",
    "for keyitem in pro_com_dict.keys():\n",
    "    pro_com_dict[keyitem] = count\n",
    "    count += 1\n",
    "\n",
    "for com_list in com_list_list:\n",
    "    temp_vec = [0]*5017\n",
    "    for com in com_list:\n",
    "        temp_vec[pro_com_dict[com]] = 1\n",
    "    pro_com_vectors.append(temp_vec)\n",
    "\n",
    "production_com_columns = list()\n",
    "for i in range(5017):\n",
    "    temp_name = 'company' + str(i)\n",
    "    production_com_columns.append(temp_name)\n",
    "\n",
    "Production_Companies = pd.DataFrame(pro_com_vectors, columns = production_com_columns)\n",
    "Production_Companies['title'] = total_df['title']"
   ]
  },
  {
   "cell_type": "code",
   "execution_count": 18,
   "metadata": {},
   "outputs": [
    {
     "name": "stdout",
     "output_type": "stream",
     "text": [
      "26\n"
     ]
    }
   ],
   "source": [
    "# 한 영화가 가진 가장 많은 production company의 종류 개수 : 26\n",
    "max_len = 0\n",
    "for com_list in com_list_list:\n",
    "    if len(com_list) > max_len:\n",
    "        max_len = len(com_list)\n",
    "print(max_len)"
   ]
  },
  {
   "cell_type": "code",
   "execution_count": 19,
   "metadata": {},
   "outputs": [
    {
     "name": "stdout",
     "output_type": "stream",
     "text": [
      "0\n"
     ]
    }
   ],
   "source": [
    "# 한 영화가 가진 가장 적은 production company의 종류 개수 : 0\n",
    "min_len = 9999\n",
    "for com_list in com_list_list:\n",
    "    if len(com_list) < min_len:\n",
    "        min_len = len(com_list)\n",
    "print(min_len)"
   ]
  },
  {
   "cell_type": "markdown",
   "metadata": {},
   "source": [
    "# Genre vectorize\n",
    "## genre 의 종류 개수 : 20\n",
    "## 한 영화가 가진 가장 많은 genre의 종류 개수 : 7\n",
    "## 한 영화가 가진 가장 적은 genre의 종류 개수 : 0"
   ]
  },
  {
   "cell_type": "code",
   "execution_count": 20,
   "metadata": {},
   "outputs": [
    {
     "name": "stdout",
     "output_type": "stream",
     "text": [
      "20\n",
      "{'History', 'War', 'Adventure', 'Horror', 'Science Fiction', 'Documentary', 'TV Movie', 'Action', 'Family', 'Western', 'Comedy', 'Foreign', 'Romance', 'Mystery', 'Music', 'Thriller', 'Animation', 'Drama', 'Fantasy', 'Crime'}\n"
     ]
    }
   ],
   "source": [
    "genre_set = set()\n",
    "genre_list_list = list()\n",
    "\n",
    "for genre_list in total_df['genres']:\n",
    "    temp_genre = list()\n",
    "    for genre in genre_list:\n",
    "        genre_set.add(genre['name'])\n",
    "        temp_genre.append(genre['name'])\n",
    "    genre_list_list.append(temp_genre)\n",
    "print(len(genre_set))\n",
    "print(genre_set)"
   ]
  },
  {
   "cell_type": "code",
   "execution_count": 21,
   "metadata": {},
   "outputs": [],
   "source": [
    "genre_dict = dict()\n",
    "genre_dict = dict.fromkeys(genre_set)\n",
    "count = 0\n",
    "for key_item in genre_dict.keys():\n",
    "    genre_dict[key_item] = count\n",
    "    count += 1\n",
    "genre_vector = list()\n",
    "for genre_list in genre_list_list:\n",
    "    temp_genre_vec = [0] * 20\n",
    "    for genre in genre_list:\n",
    "        temp_genre_vec[genre_dict[genre]] = 1\n",
    "    genre_vector.append(temp_genre_vec)\n",
    "genre_cols = list()\n",
    "for i in range(20):\n",
    "    temp_genre = 'genre' + str(i)\n",
    "    genre_cols.append(temp_genre)\n",
    "\n",
    "Genre = pd.DataFrame(genre_vector, columns=genre_cols)"
   ]
  },
  {
   "cell_type": "code",
   "execution_count": 22,
   "metadata": {},
   "outputs": [
    {
     "data": {
      "text/html": [
       "<div>\n",
       "<style scoped>\n",
       "    .dataframe tbody tr th:only-of-type {\n",
       "        vertical-align: middle;\n",
       "    }\n",
       "\n",
       "    .dataframe tbody tr th {\n",
       "        vertical-align: top;\n",
       "    }\n",
       "\n",
       "    .dataframe thead th {\n",
       "        text-align: right;\n",
       "    }\n",
       "</style>\n",
       "<table border=\"1\" class=\"dataframe\">\n",
       "  <thead>\n",
       "    <tr style=\"text-align: right;\">\n",
       "      <th></th>\n",
       "      <th>genre0</th>\n",
       "      <th>genre1</th>\n",
       "      <th>genre2</th>\n",
       "      <th>genre3</th>\n",
       "      <th>genre4</th>\n",
       "      <th>genre5</th>\n",
       "      <th>genre6</th>\n",
       "      <th>genre7</th>\n",
       "      <th>genre8</th>\n",
       "      <th>genre9</th>\n",
       "      <th>genre10</th>\n",
       "      <th>genre11</th>\n",
       "      <th>genre12</th>\n",
       "      <th>genre13</th>\n",
       "      <th>genre14</th>\n",
       "      <th>genre15</th>\n",
       "      <th>genre16</th>\n",
       "      <th>genre17</th>\n",
       "      <th>genre18</th>\n",
       "      <th>genre19</th>\n",
       "    </tr>\n",
       "  </thead>\n",
       "  <tbody>\n",
       "    <tr>\n",
       "      <th>0</th>\n",
       "      <td>0</td>\n",
       "      <td>0</td>\n",
       "      <td>1</td>\n",
       "      <td>0</td>\n",
       "      <td>1</td>\n",
       "      <td>0</td>\n",
       "      <td>0</td>\n",
       "      <td>1</td>\n",
       "      <td>0</td>\n",
       "      <td>0</td>\n",
       "      <td>0</td>\n",
       "      <td>0</td>\n",
       "      <td>0</td>\n",
       "      <td>0</td>\n",
       "      <td>0</td>\n",
       "      <td>0</td>\n",
       "      <td>0</td>\n",
       "      <td>0</td>\n",
       "      <td>1</td>\n",
       "      <td>0</td>\n",
       "    </tr>\n",
       "    <tr>\n",
       "      <th>1</th>\n",
       "      <td>0</td>\n",
       "      <td>0</td>\n",
       "      <td>1</td>\n",
       "      <td>0</td>\n",
       "      <td>0</td>\n",
       "      <td>0</td>\n",
       "      <td>0</td>\n",
       "      <td>1</td>\n",
       "      <td>0</td>\n",
       "      <td>0</td>\n",
       "      <td>0</td>\n",
       "      <td>0</td>\n",
       "      <td>0</td>\n",
       "      <td>0</td>\n",
       "      <td>0</td>\n",
       "      <td>0</td>\n",
       "      <td>0</td>\n",
       "      <td>0</td>\n",
       "      <td>1</td>\n",
       "      <td>0</td>\n",
       "    </tr>\n",
       "    <tr>\n",
       "      <th>2</th>\n",
       "      <td>0</td>\n",
       "      <td>0</td>\n",
       "      <td>1</td>\n",
       "      <td>0</td>\n",
       "      <td>0</td>\n",
       "      <td>0</td>\n",
       "      <td>0</td>\n",
       "      <td>1</td>\n",
       "      <td>0</td>\n",
       "      <td>0</td>\n",
       "      <td>0</td>\n",
       "      <td>0</td>\n",
       "      <td>0</td>\n",
       "      <td>0</td>\n",
       "      <td>0</td>\n",
       "      <td>0</td>\n",
       "      <td>0</td>\n",
       "      <td>0</td>\n",
       "      <td>0</td>\n",
       "      <td>1</td>\n",
       "    </tr>\n",
       "    <tr>\n",
       "      <th>3</th>\n",
       "      <td>0</td>\n",
       "      <td>0</td>\n",
       "      <td>0</td>\n",
       "      <td>0</td>\n",
       "      <td>0</td>\n",
       "      <td>0</td>\n",
       "      <td>0</td>\n",
       "      <td>1</td>\n",
       "      <td>0</td>\n",
       "      <td>0</td>\n",
       "      <td>0</td>\n",
       "      <td>0</td>\n",
       "      <td>0</td>\n",
       "      <td>0</td>\n",
       "      <td>0</td>\n",
       "      <td>1</td>\n",
       "      <td>0</td>\n",
       "      <td>1</td>\n",
       "      <td>0</td>\n",
       "      <td>1</td>\n",
       "    </tr>\n",
       "    <tr>\n",
       "      <th>4</th>\n",
       "      <td>0</td>\n",
       "      <td>0</td>\n",
       "      <td>1</td>\n",
       "      <td>0</td>\n",
       "      <td>1</td>\n",
       "      <td>0</td>\n",
       "      <td>0</td>\n",
       "      <td>1</td>\n",
       "      <td>0</td>\n",
       "      <td>0</td>\n",
       "      <td>0</td>\n",
       "      <td>0</td>\n",
       "      <td>0</td>\n",
       "      <td>0</td>\n",
       "      <td>0</td>\n",
       "      <td>0</td>\n",
       "      <td>0</td>\n",
       "      <td>0</td>\n",
       "      <td>0</td>\n",
       "      <td>0</td>\n",
       "    </tr>\n",
       "    <tr>\n",
       "      <th>5</th>\n",
       "      <td>0</td>\n",
       "      <td>0</td>\n",
       "      <td>1</td>\n",
       "      <td>0</td>\n",
       "      <td>0</td>\n",
       "      <td>0</td>\n",
       "      <td>0</td>\n",
       "      <td>1</td>\n",
       "      <td>0</td>\n",
       "      <td>0</td>\n",
       "      <td>0</td>\n",
       "      <td>0</td>\n",
       "      <td>0</td>\n",
       "      <td>0</td>\n",
       "      <td>0</td>\n",
       "      <td>0</td>\n",
       "      <td>0</td>\n",
       "      <td>0</td>\n",
       "      <td>1</td>\n",
       "      <td>0</td>\n",
       "    </tr>\n",
       "    <tr>\n",
       "      <th>6</th>\n",
       "      <td>0</td>\n",
       "      <td>0</td>\n",
       "      <td>0</td>\n",
       "      <td>0</td>\n",
       "      <td>0</td>\n",
       "      <td>0</td>\n",
       "      <td>0</td>\n",
       "      <td>0</td>\n",
       "      <td>1</td>\n",
       "      <td>0</td>\n",
       "      <td>0</td>\n",
       "      <td>0</td>\n",
       "      <td>0</td>\n",
       "      <td>0</td>\n",
       "      <td>0</td>\n",
       "      <td>0</td>\n",
       "      <td>1</td>\n",
       "      <td>0</td>\n",
       "      <td>0</td>\n",
       "      <td>0</td>\n",
       "    </tr>\n",
       "    <tr>\n",
       "      <th>7</th>\n",
       "      <td>0</td>\n",
       "      <td>0</td>\n",
       "      <td>1</td>\n",
       "      <td>0</td>\n",
       "      <td>1</td>\n",
       "      <td>0</td>\n",
       "      <td>0</td>\n",
       "      <td>1</td>\n",
       "      <td>0</td>\n",
       "      <td>0</td>\n",
       "      <td>0</td>\n",
       "      <td>0</td>\n",
       "      <td>0</td>\n",
       "      <td>0</td>\n",
       "      <td>0</td>\n",
       "      <td>0</td>\n",
       "      <td>0</td>\n",
       "      <td>0</td>\n",
       "      <td>0</td>\n",
       "      <td>0</td>\n",
       "    </tr>\n",
       "    <tr>\n",
       "      <th>8</th>\n",
       "      <td>0</td>\n",
       "      <td>0</td>\n",
       "      <td>1</td>\n",
       "      <td>0</td>\n",
       "      <td>0</td>\n",
       "      <td>0</td>\n",
       "      <td>0</td>\n",
       "      <td>0</td>\n",
       "      <td>1</td>\n",
       "      <td>0</td>\n",
       "      <td>0</td>\n",
       "      <td>0</td>\n",
       "      <td>0</td>\n",
       "      <td>0</td>\n",
       "      <td>0</td>\n",
       "      <td>0</td>\n",
       "      <td>0</td>\n",
       "      <td>0</td>\n",
       "      <td>1</td>\n",
       "      <td>0</td>\n",
       "    </tr>\n",
       "    <tr>\n",
       "      <th>9</th>\n",
       "      <td>0</td>\n",
       "      <td>0</td>\n",
       "      <td>1</td>\n",
       "      <td>0</td>\n",
       "      <td>0</td>\n",
       "      <td>0</td>\n",
       "      <td>0</td>\n",
       "      <td>1</td>\n",
       "      <td>0</td>\n",
       "      <td>0</td>\n",
       "      <td>0</td>\n",
       "      <td>0</td>\n",
       "      <td>0</td>\n",
       "      <td>0</td>\n",
       "      <td>0</td>\n",
       "      <td>0</td>\n",
       "      <td>0</td>\n",
       "      <td>0</td>\n",
       "      <td>1</td>\n",
       "      <td>0</td>\n",
       "    </tr>\n",
       "  </tbody>\n",
       "</table>\n",
       "</div>"
      ],
      "text/plain": [
       "   genre0  genre1  genre2  genre3  genre4  genre5  genre6  genre7  genre8  \\\n",
       "0       0       0       1       0       1       0       0       1       0   \n",
       "1       0       0       1       0       0       0       0       1       0   \n",
       "2       0       0       1       0       0       0       0       1       0   \n",
       "3       0       0       0       0       0       0       0       1       0   \n",
       "4       0       0       1       0       1       0       0       1       0   \n",
       "5       0       0       1       0       0       0       0       1       0   \n",
       "6       0       0       0       0       0       0       0       0       1   \n",
       "7       0       0       1       0       1       0       0       1       0   \n",
       "8       0       0       1       0       0       0       0       0       1   \n",
       "9       0       0       1       0       0       0       0       1       0   \n",
       "\n",
       "   genre9  genre10  genre11  genre12  genre13  genre14  genre15  genre16  \\\n",
       "0       0        0        0        0        0        0        0        0   \n",
       "1       0        0        0        0        0        0        0        0   \n",
       "2       0        0        0        0        0        0        0        0   \n",
       "3       0        0        0        0        0        0        1        0   \n",
       "4       0        0        0        0        0        0        0        0   \n",
       "5       0        0        0        0        0        0        0        0   \n",
       "6       0        0        0        0        0        0        0        1   \n",
       "7       0        0        0        0        0        0        0        0   \n",
       "8       0        0        0        0        0        0        0        0   \n",
       "9       0        0        0        0        0        0        0        0   \n",
       "\n",
       "   genre17  genre18  genre19  \n",
       "0        0        1        0  \n",
       "1        0        1        0  \n",
       "2        0        0        1  \n",
       "3        1        0        1  \n",
       "4        0        0        0  \n",
       "5        0        1        0  \n",
       "6        0        0        0  \n",
       "7        0        0        0  \n",
       "8        0        1        0  \n",
       "9        0        1        0  "
      ]
     },
     "execution_count": 22,
     "metadata": {},
     "output_type": "execute_result"
    }
   ],
   "source": [
    "Genre.head(10)"
   ]
  },
  {
   "cell_type": "code",
   "execution_count": 23,
   "metadata": {},
   "outputs": [
    {
     "name": "stdout",
     "output_type": "stream",
     "text": [
      "7\n"
     ]
    }
   ],
   "source": [
    "# 한 영화가 가진 가장 많은 genre의 종류 개수 : 7\n",
    "max_len = 0\n",
    "for genre_list in genre_list_list:\n",
    "    if len(genre_list) > max_len:\n",
    "        max_len = len(genre_list)\n",
    "print(max_len)"
   ]
  },
  {
   "cell_type": "code",
   "execution_count": 24,
   "metadata": {},
   "outputs": [
    {
     "name": "stdout",
     "output_type": "stream",
     "text": [
      "0\n"
     ]
    }
   ],
   "source": [
    "# 한 영화가 가진 가장 적은 genre의 종류 개수 : 0\n",
    "min_len = 9999\n",
    "for genre_list in genre_list_list:\n",
    "    if len(genre_list) < min_len:\n",
    "        min_len = len(genre_list)\n",
    "print(min_len)"
   ]
  },
  {
   "cell_type": "code",
   "execution_count": null,
   "metadata": {},
   "outputs": [],
   "source": []
  }
 ],
 "metadata": {
  "kernelspec": {
   "display_name": "Python 3",
   "language": "python",
   "name": "python3"
  },
  "language_info": {
   "codemirror_mode": {
    "name": "ipython",
    "version": 3
   },
   "file_extension": ".py",
   "mimetype": "text/x-python",
   "name": "python",
   "nbconvert_exporter": "python",
   "pygments_lexer": "ipython3",
   "version": "3.6.5"
  }
 },
 "nbformat": 4,
 "nbformat_minor": 2
}
